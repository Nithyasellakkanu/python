{
 "cells": [
  {
   "cell_type": "code",
   "execution_count": 18,
   "id": "49754fa7-70fb-4487-8ad7-8a9ea65b4cac",
   "metadata": {},
   "outputs": [
    {
     "name": "stdout",
     "output_type": "stream",
     "text": [
      "[1, 22, 3, 44, 55, 6, 4, 11, 1200]\n"
     ]
    }
   ],
   "source": [
    "l=[1,22,3,44,55,6,11,1200]\n",
    "l.insert(6,4)\n",
    "print(l)"
   ]
  },
  {
   "cell_type": "code",
   "execution_count": 20,
   "id": "19147ea7-b6e9-48e2-907b-be0515720225",
   "metadata": {},
   "outputs": [
    {
     "name": "stdout",
     "output_type": "stream",
     "text": [
      "[1, 22, 3, 55, 6, 11, 1200]\n"
     ]
    }
   ],
   "source": [
    "l=[1,22,3,44,55,6,11,1200]\n",
    "l.remove(44)\n",
    "print(l)"
   ]
  },
  {
   "cell_type": "code",
   "execution_count": 22,
   "id": "f6fa1f0b-8d5d-43d6-aaf3-7e1f641003d5",
   "metadata": {},
   "outputs": [
    {
     "name": "stdout",
     "output_type": "stream",
     "text": [
      "[1, 22, 3, 44, 55, 6, 11, 1200, 88]\n"
     ]
    }
   ],
   "source": [
    "l=[1,22,3,44,55,6,11,1200]\n",
    "l.append(88)\n",
    "print(l)"
   ]
  },
  {
   "cell_type": "code",
   "execution_count": null,
   "id": "df6cdb22-f12a-40f9-b056-715ed44ccb3a",
   "metadata": {},
   "outputs": [],
   "source": []
  }
 ],
 "metadata": {
  "kernelspec": {
   "display_name": "Python [conda env:base] *",
   "language": "python",
   "name": "conda-base-py"
  },
  "language_info": {
   "codemirror_mode": {
    "name": "ipython",
    "version": 3
   },
   "file_extension": ".py",
   "mimetype": "text/x-python",
   "name": "python",
   "nbconvert_exporter": "python",
   "pygments_lexer": "ipython3",
   "version": "3.12.7"
  }
 },
 "nbformat": 4,
 "nbformat_minor": 5
}
