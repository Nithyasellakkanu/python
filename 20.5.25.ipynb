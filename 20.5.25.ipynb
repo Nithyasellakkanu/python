{
 "cells": [
  {
   "cell_type": "code",
   "execution_count": 1,
   "id": "41a1cbb3-1873-443f-96de-805766dd7e38",
   "metadata": {},
   "outputs": [
    {
     "name": "stdout",
     "output_type": "stream",
     "text": [
      "how a1e yom\n"
     ]
    }
   ],
   "source": [
    "k=\"how are you\"\n",
    "k1=k.replace(\"u\",\"m\")\n",
    "k2=k1.replace(\"r\",\"1\")\n",
    "print(k2)"
   ]
  },
  {
   "cell_type": "code",
   "execution_count": null,
   "id": "409fedb4-d977-404d-8bc9-87a78a619141",
   "metadata": {},
   "outputs": [],
   "source": [
    "age=int(input(\"enter your age\"))\n",
    "if age<40:\n",
    "    print(\"aged\")\n",
    "if age<18:\n",
    "    print(\"child\")\n",
    "else:\n",
    "    age<40 and age<18\n",
    "    print(\"adult\")"
   ]
  },
  {
   "cell_type": "code",
   "execution_count": null,
   "id": "c73e7db6-ae23-4097-9104-f38a65bfe242",
   "metadata": {},
   "outputs": [],
   "source": []
  }
 ],
 "metadata": {
  "kernelspec": {
   "display_name": "Python [conda env:base] *",
   "language": "python",
   "name": "conda-base-py"
  },
  "language_info": {
   "codemirror_mode": {
    "name": "ipython",
    "version": 3
   },
   "file_extension": ".py",
   "mimetype": "text/x-python",
   "name": "python",
   "nbconvert_exporter": "python",
   "pygments_lexer": "ipython3",
   "version": "3.12.7"
  }
 },
 "nbformat": 4,
 "nbformat_minor": 5
}
